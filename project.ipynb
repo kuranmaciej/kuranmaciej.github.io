{
 "cells": [
  {
   "cell_type": "markdown",
   "metadata": {},
   "source": [
    "# Final Assignment"
   ]
  },
  {
   "cell_type": "markdown",
   "metadata": {},
   "source": [
    "## Motivation\n",
    "\n",
    "- What is your dataset? \n",
    "\n",
    "The dataset is the New York City Traffic Vaolume Counts, published by the NYC Department of Transportation. It contains hourly traffic counts across various street segments in NYC, recorded over a span of 9 years. Each record includes the location, direction and vehicle counts for every hour of the day.\n",
    "\n",
    "- Why did you choose this dataset?\n",
    "\n",
    "We chose this dataset as it contains information that seems interesting to us to work on. It contains granular information and traffic is something we all tend to experience especially as we live in urban areas and this helps us understand how to plan around the stresses of the peak traffic periods. The dataset is also public, structured and spans a long enough period to analyze long-term trends, such as how traffic changed during the years.\n",
    "\n",
    "- What was your goal for the end user's experience?\n",
    "\n",
    "Our goal is to give end users an interactive and visual way to understand how traffic patterns evolve across time and location in NYC. We want them to be able to identifying rush hours or high traffic days. See how traffic changed over time and years. Make data informed decisions about traffic policy and commuting habits\n",
    "\n",
    "\n"
   ]
  },
  {
   "cell_type": "markdown",
   "metadata": {},
   "source": [
    "# Basic stats.\n",
    "\n",
    "- What about your choices in data cleaning and processing\n",
    "\n",
    "The dataset has not been thouroughly processed and cleaned before analysis however during the analysis we have noticed missing data values and wrong formatting in columns and have been fixed according to the  analysis intended. The dataset in fact misses major months such as June, July and August with varying parts of the dataset going missing across other months per year. Being able to process this dataset has proven difficult in terms of also analysing.\n",
    "\n",
    "- Write a short section that discusses the dataset stats, containing key points/ plots from your exploratory data analysis. \n",
    "\n",
    "This dataset contains records of hourly traffic volume across multiple road segments in New York from January 2012. Here are the key statistics:\n",
    "    - Roadways: 32 unique roadway names\n",
    "    - Time coverage: 24 hour time range\n",
    "    - 31 columns\n",
    "    - 42757 records\n",
    "    - Dataset has been downloaded 5, 031 times with 24.4K views\n",
    "    - Sunday has the lowest avergae traffic volume\n",
    "    - 2016 had the highest traffic in the datset with 2021 the least possibly due to COVID\n",
    "    - Long Island expressway has the most average traffic \n",
    "\n"
   ]
  },
  {
   "cell_type": "markdown",
   "metadata": {},
   "source": [
    "# Data Analysis\n",
    "\n",
    "- Describe your data analysis and explain what you've learned about the dataset.\n",
    "\n",
    "Due to the sporadic nature of entries in the dataset it is very hard to understand the trend of traffic rate over the years.However the analysis of the Average traffic volume shows on a very shallow level a decline in traffic rate may be due to COVID outbreak in 2021. \n",
    "\n",
    "The day of the week with the lowest average traffic volume is Sunday followed by Saturday as expected from the working days theory. Monday to Friday have a similar level.\n",
    "\n",
    "The busiest road by this dataset shows that the Long Island Expressway is the busiest road with the Staten Island Expressway the next busiest.\n",
    "\n",
    "The Peak hour of the day on an average workday is 8 am and 17 am while Sunday and Saturday is 15. \n",
    "\n"
   ]
  },
  {
   "cell_type": "markdown",
   "metadata": {},
   "source": [
    "# Genre\n",
    "\n",
    "We chose the Magazine style genre.\n",
    "\n",
    "- For visual Narrative, under Visual Structuring  I chose a Consistent Visual Platform, under Highlighting I chose Feature Distinction. There are no transition Guidance however. \n",
    "\n",
    "- For the Narrative Structure, the Ordering is Linear with a little bit of filtering in the Bokeh visualisation. For the Messaging there are Captions, Accompanying Article, Introductory Text and Summary/Synthesis."
   ]
  },
  {
   "cell_type": "markdown",
   "metadata": {},
   "source": [
    "# Visualizations\n",
    "\n",
    "- Explain the visualizations you've chosen. and why are they right for the story.\n",
    "\n",
    "So I have chosen A Bar Chart to show the average Traffi volume over the years. To show the long term trends and disruption in traffic volume. It helps to clearly illustrate how events like the COVID pandemic led to sharp drops in traffic.\n",
    "\n",
    "Also Average Traffic volume by Day of week (Bar Cart) to reveal weekle behaviour and commuting patterns.\n",
    "It is simple and effective in communicating how weekdays vs traffic changes \n",
    "\n",
    "Also there is a bar chart which shows the top busiest roads, this is used to reveal to the user the analysis of traffic congestion per road\n",
    "\n",
    "Line Chart Showing the comparison per hour for a weekday vs a Weekend to simulate the users a difference in road congestion at a given hour.\n",
    "\n",
    "An Interactive Bokeh Plot. Allows the users to explore traffic data by data by day of week. It increases user engagement by letting the viewer ask their own questions and is essential for discovery-driven insights, particularly exploraatory data analysis.\n",
    "\n",
    "\n",
    "\n"
   ]
  },
  {
   "cell_type": "markdown",
   "metadata": {},
   "source": [
    "# Discussion \n",
    "\n",
    "- What went well ?\n",
    "\n",
    "Strong Dataset Choice: We selected a rich, publicly available dataset that offers granular hourly data across years. It connects directly to a relatable urban issue — traffic — making it engaging and practically useful.\n",
    "\n",
    "Diverse Visualizations: We incorporated a variety of visualizations — static bar charts, line plots, and an interactive Bokeh plot — to explore temporal and categorical patterns. These different forms helped communicate insights effectively to different types of users.\n",
    "\n",
    "User Interactivity: The interactive dashboard gives users a way to filter and explore the data by days of the week, enhancing accessibility and engagement.\n",
    "\n",
    "Useful Findings: Key insights like peak traffic times, most congested roads, and pandemic-era traffic drops provide immediate, practical value.\n",
    "\n",
    "- What is Missing? What could be Improved ?\n",
    "\n",
    "Incomplete Coverage:\n",
    "\n",
    "The dataset has missing months (like June–August in some years), making it difficult to run reliable year-on-year or seasonal comparisons. Filling or accounting for these gaps in visualizations would improve the validity of insights.\n",
    "\n",
    "No Geospatial Mapping Yet:\n",
    "\n",
    "While the dataset contains street names and boroughs, we didn’t fully leverage spatial data with a heatmap or map-based visualization. Adding this could highlight regional traffic congestion patterns more clearly.\n",
    "\n",
    "Limited Predictive Modeling:\n",
    "\n",
    "While we used descriptive statistics and basic visualizations, we haven’t yet implemented more advanced analyses like linear regression forecasting, clustering of traffic patterns, or anomaly detection — all of which could add predictive value.\n",
    "\n",
    "Cleaning Could Be More Robust:\n",
    "\n",
    "Data cleaning was performed as-needed, but a dedicated preprocessing stage (e.g., unifying date formats, validating all time columns) would make the pipeline more robust and scalable.\n",
    "\n",
    "Better Hourly Insight:\n",
    "\n",
    "We have hourly traffic counts, but we could explore average hourly distributions per road segment, possibly clustering roads by similar traffic rhythms."
   ]
  },
  {
   "cell_type": "markdown",
   "metadata": {},
   "source": [
    "Contributions \n",
    "\n",
    "- Analysis: Emmanuel Simon\n",
    "- Report: Michal Staniszewski\n",
    "- Website: Maciej Kuran "
   ]
  },
  {
   "cell_type": "markdown",
   "metadata": {},
   "source": []
  },
  {
   "cell_type": "markdown",
   "metadata": {},
   "source": []
  }
 ],
 "metadata": {
  "language_info": {
   "name": "python"
  }
 },
 "nbformat": 4,
 "nbformat_minor": 2
}
